{
 "cells": [
  {
   "cell_type": "markdown",
   "id": "055f0a55",
   "metadata": {},
   "source": [
    "## For Fraud Data"
   ]
  },
  {
   "cell_type": "markdown",
   "id": "800ec4c2",
   "metadata": {},
   "source": [
    "### Handle Missing Values\n"
   ]
  },
  {
   "cell_type": "code",
   "execution_count": 2,
   "id": "3f17c750",
   "metadata": {},
   "outputs": [
    {
     "name": "stdout",
     "output_type": "stream",
     "text": [
      "user_id           0\n",
      "signup_time       0\n",
      "purchase_time     0\n",
      "purchase_value    0\n",
      "device_id         0\n",
      "source            0\n",
      "browser           0\n",
      "sex               0\n",
      "age               0\n",
      "ip_address        0\n",
      "class             0\n",
      "dtype: int64\n"
     ]
    }
   ],
   "source": [
    "import pandas as pd \n",
    "\n",
    "fraud_df = pd.read_csv(\"../Data/raw/Fraud_Data.csv\")\n",
    "\n",
    "# Check missing\n",
    "print(fraud_df.isnull().sum())\n",
    "\n",
    "# Drop or impute (this assumes very few missing)\n",
    "fraud_df = fraud_df.dropna()  # Or impute if necessary\n"
   ]
  },
  {
   "cell_type": "markdown",
   "id": "2c9eb935",
   "metadata": {},
   "source": [
    "### Data Cleaning"
   ]
  },
  {
   "cell_type": "code",
   "execution_count": 4,
   "id": "f20f8c6d",
   "metadata": {},
   "outputs": [
    {
     "data": {
      "text/html": [
       "<div>\n",
       "<style scoped>\n",
       "    .dataframe tbody tr th:only-of-type {\n",
       "        vertical-align: middle;\n",
       "    }\n",
       "\n",
       "    .dataframe tbody tr th {\n",
       "        vertical-align: top;\n",
       "    }\n",
       "\n",
       "    .dataframe thead th {\n",
       "        text-align: right;\n",
       "    }\n",
       "</style>\n",
       "<table border=\"1\" class=\"dataframe\">\n",
       "  <thead>\n",
       "    <tr style=\"text-align: right;\">\n",
       "      <th></th>\n",
       "      <th>user_id</th>\n",
       "      <th>signup_time</th>\n",
       "      <th>purchase_time</th>\n",
       "      <th>purchase_value</th>\n",
       "      <th>device_id</th>\n",
       "      <th>source</th>\n",
       "      <th>browser</th>\n",
       "      <th>sex</th>\n",
       "      <th>age</th>\n",
       "      <th>ip_address</th>\n",
       "      <th>class</th>\n",
       "    </tr>\n",
       "  </thead>\n",
       "  <tbody>\n",
       "    <tr>\n",
       "      <th>0</th>\n",
       "      <td>22058</td>\n",
       "      <td>2015-02-24 22:55:49</td>\n",
       "      <td>2015-04-18 02:47:11</td>\n",
       "      <td>34</td>\n",
       "      <td>QVPSPJUOCKZAR</td>\n",
       "      <td>SEO</td>\n",
       "      <td>Chrome</td>\n",
       "      <td>M</td>\n",
       "      <td>39</td>\n",
       "      <td>7.327584e+08</td>\n",
       "      <td>0</td>\n",
       "    </tr>\n",
       "    <tr>\n",
       "      <th>1</th>\n",
       "      <td>333320</td>\n",
       "      <td>2015-06-07 20:39:50</td>\n",
       "      <td>2015-06-08 01:38:54</td>\n",
       "      <td>16</td>\n",
       "      <td>EOGFQPIZPYXFZ</td>\n",
       "      <td>Ads</td>\n",
       "      <td>Chrome</td>\n",
       "      <td>F</td>\n",
       "      <td>53</td>\n",
       "      <td>3.503114e+08</td>\n",
       "      <td>0</td>\n",
       "    </tr>\n",
       "    <tr>\n",
       "      <th>2</th>\n",
       "      <td>1359</td>\n",
       "      <td>2015-01-01 18:52:44</td>\n",
       "      <td>2015-01-01 18:52:45</td>\n",
       "      <td>15</td>\n",
       "      <td>YSSKYOSJHPPLJ</td>\n",
       "      <td>SEO</td>\n",
       "      <td>Opera</td>\n",
       "      <td>M</td>\n",
       "      <td>53</td>\n",
       "      <td>2.621474e+09</td>\n",
       "      <td>1</td>\n",
       "    </tr>\n",
       "    <tr>\n",
       "      <th>3</th>\n",
       "      <td>150084</td>\n",
       "      <td>2015-04-28 21:13:25</td>\n",
       "      <td>2015-05-04 13:54:50</td>\n",
       "      <td>44</td>\n",
       "      <td>ATGTXKYKUDUQN</td>\n",
       "      <td>SEO</td>\n",
       "      <td>Safari</td>\n",
       "      <td>M</td>\n",
       "      <td>41</td>\n",
       "      <td>3.840542e+09</td>\n",
       "      <td>0</td>\n",
       "    </tr>\n",
       "    <tr>\n",
       "      <th>4</th>\n",
       "      <td>221365</td>\n",
       "      <td>2015-07-21 07:09:52</td>\n",
       "      <td>2015-09-09 18:40:53</td>\n",
       "      <td>39</td>\n",
       "      <td>NAUITBZFJKHWW</td>\n",
       "      <td>Ads</td>\n",
       "      <td>Safari</td>\n",
       "      <td>M</td>\n",
       "      <td>45</td>\n",
       "      <td>4.155831e+08</td>\n",
       "      <td>0</td>\n",
       "    </tr>\n",
       "  </tbody>\n",
       "</table>\n",
       "</div>"
      ],
      "text/plain": [
       "   user_id         signup_time       purchase_time  purchase_value  \\\n",
       "0    22058 2015-02-24 22:55:49 2015-04-18 02:47:11              34   \n",
       "1   333320 2015-06-07 20:39:50 2015-06-08 01:38:54              16   \n",
       "2     1359 2015-01-01 18:52:44 2015-01-01 18:52:45              15   \n",
       "3   150084 2015-04-28 21:13:25 2015-05-04 13:54:50              44   \n",
       "4   221365 2015-07-21 07:09:52 2015-09-09 18:40:53              39   \n",
       "\n",
       "       device_id source browser sex  age    ip_address  class  \n",
       "0  QVPSPJUOCKZAR    SEO  Chrome   M   39  7.327584e+08      0  \n",
       "1  EOGFQPIZPYXFZ    Ads  Chrome   F   53  3.503114e+08      0  \n",
       "2  YSSKYOSJHPPLJ    SEO   Opera   M   53  2.621474e+09      1  \n",
       "3  ATGTXKYKUDUQN    SEO  Safari   M   41  3.840542e+09      0  \n",
       "4  NAUITBZFJKHWW    Ads  Safari   M   45  4.155831e+08      0  "
      ]
     },
     "execution_count": 4,
     "metadata": {},
     "output_type": "execute_result"
    }
   ],
   "source": [
    "# Drop duplicates\n",
    "fraud_df = fraud_df.drop_duplicates()\n",
    "\n",
    "# Fix data types\n",
    "fraud_df['signup_time'] = pd.to_datetime(fraud_df['signup_time'])\n",
    "fraud_df['purchase_time'] = pd.to_datetime(fraud_df['purchase_time'])\n",
    "\n",
    "fraud_df.head()"
   ]
  },
  {
   "cell_type": "markdown",
   "id": "45786778",
   "metadata": {},
   "source": [
    "### Exploratory Data Analysis (EDA)"
   ]
  },
  {
   "cell_type": "code",
   "execution_count": null,
   "id": "0c25cce5",
   "metadata": {},
   "outputs": [
    {
     "data": {
      "text/plain": [
       "Text(0.5, 1.0, 'Fraud vs Legitimate Class Distribution')"
      ]
     },
     "execution_count": 6,
     "metadata": {},
     "output_type": "execute_result"
    },
    {
     "data": {
      "image/png": "[encoded data removed]",
      "text/plain": [
       "<Figure size 640x480 with 1 Axes>"
      ]
     },
     "metadata": {},
     "output_type": "display_data"
    }
   ],
   "source": [
    "import matplotlib.pyplot as plt\n",
    "import seaborn as sns\n",
    "\n",
    "# univariate analysis\n",
    "sns.countplot(x='class', data=fraud_df)\n",
    "plt.title('Fraud vs Legitimate Class Distribution')\n",
    "\n",
    "  "
   ]
  },
  {
   "cell_type": "code",
   "execution_count": 7,
   "id": "795c664f",
   "metadata": {},
   "outputs": [
    {
     "data": {
      "text/plain": [
       "Text(0.5, 1.0, 'Purchase Value by Class')"
      ]
     },
     "execution_count": 7,
     "metadata": {},
     "output_type": "execute_result"
    },
    {
     "data": {
      "image/png": "[encoded data removed]",
      "text/plain": [
       "<Figure size 640x480 with 1 Axes>"
      ]
     },
     "metadata": {},
     "output_type": "display_data"
    }
   ],
   "source": [
    "# Bivariate analysis\n",
    "sns.boxplot(x='class', y='purchase_value', data=fraud_df)\n",
    "plt.title('Purchase Value by Class')  "
   ]
  },
  {
   "cell_type": "markdown",
   "id": "828f2b4f",
   "metadata": {},
   "source": [
    "###  Merge IP to Country"
   ]
  },
  {
   "cell_type": "code",
   "execution_count": 23,
   "id": "3a15114c",
   "metadata": {},
   "outputs": [
    {
     "name": "stdout",
     "output_type": "stream",
     "text": [
      "     user_id        ip_int    country\n",
      "634   247547  1.677886e+07  Australia\n",
      "635   220737  1.684205e+07   Thailand\n",
      "636   390400  1.684366e+07      China\n",
      "637    69592  1.693873e+07      China\n",
      "638   174987  1.697198e+07   Thailand\n"
     ]
    },
    {
     "data": {
      "text/html": [
       "<div>\n",
       "<style scoped>\n",
       "    .dataframe tbody tr th:only-of-type {\n",
       "        vertical-align: middle;\n",
       "    }\n",
       "\n",
       "    .dataframe tbody tr th {\n",
       "        vertical-align: top;\n",
       "    }\n",
       "\n",
       "    .dataframe thead th {\n",
       "        text-align: right;\n",
       "    }\n",
       "</style>\n",
       "<table border=\"1\" class=\"dataframe\">\n",
       "  <thead>\n",
       "    <tr style=\"text-align: right;\">\n",
       "      <th></th>\n",
       "      <th>user_id</th>\n",
       "      <th>signup_time</th>\n",
       "      <th>purchase_time</th>\n",
       "      <th>purchase_value</th>\n",
       "      <th>device_id</th>\n",
       "      <th>source</th>\n",
       "      <th>browser</th>\n",
       "      <th>sex</th>\n",
       "      <th>age</th>\n",
       "      <th>ip_int</th>\n",
       "      <th>class</th>\n",
       "      <th>country</th>\n",
       "    </tr>\n",
       "  </thead>\n",
       "  <tbody>\n",
       "    <tr>\n",
       "      <th>634</th>\n",
       "      <td>247547</td>\n",
       "      <td>2015-06-28 03:00:34</td>\n",
       "      <td>2015-08-09 03:57:29</td>\n",
       "      <td>47</td>\n",
       "      <td>KIXYSVCHIPQBR</td>\n",
       "      <td>SEO</td>\n",
       "      <td>Safari</td>\n",
       "      <td>F</td>\n",
       "      <td>30</td>\n",
       "      <td>1.677886e+07</td>\n",
       "      <td>0</td>\n",
       "      <td>Australia</td>\n",
       "    </tr>\n",
       "    <tr>\n",
       "      <th>635</th>\n",
       "      <td>220737</td>\n",
       "      <td>2015-01-28 14:21:11</td>\n",
       "      <td>2015-02-11 20:28:28</td>\n",
       "      <td>15</td>\n",
       "      <td>PKYOWQKWGJNJI</td>\n",
       "      <td>SEO</td>\n",
       "      <td>Chrome</td>\n",
       "      <td>F</td>\n",
       "      <td>34</td>\n",
       "      <td>1.684205e+07</td>\n",
       "      <td>0</td>\n",
       "      <td>Thailand</td>\n",
       "    </tr>\n",
       "    <tr>\n",
       "      <th>636</th>\n",
       "      <td>390400</td>\n",
       "      <td>2015-03-19 20:49:09</td>\n",
       "      <td>2015-04-11 23:41:23</td>\n",
       "      <td>44</td>\n",
       "      <td>LVCSXLISZHVUO</td>\n",
       "      <td>Ads</td>\n",
       "      <td>IE</td>\n",
       "      <td>M</td>\n",
       "      <td>29</td>\n",
       "      <td>1.684366e+07</td>\n",
       "      <td>0</td>\n",
       "      <td>China</td>\n",
       "    </tr>\n",
       "    <tr>\n",
       "      <th>637</th>\n",
       "      <td>69592</td>\n",
       "      <td>2015-02-24 06:11:57</td>\n",
       "      <td>2015-05-23 16:40:14</td>\n",
       "      <td>55</td>\n",
       "      <td>UHAUHNXXUADJE</td>\n",
       "      <td>Direct</td>\n",
       "      <td>Chrome</td>\n",
       "      <td>F</td>\n",
       "      <td>30</td>\n",
       "      <td>1.693873e+07</td>\n",
       "      <td>0</td>\n",
       "      <td>China</td>\n",
       "    </tr>\n",
       "    <tr>\n",
       "      <th>638</th>\n",
       "      <td>174987</td>\n",
       "      <td>2015-07-07 12:58:11</td>\n",
       "      <td>2015-11-03 04:04:30</td>\n",
       "      <td>51</td>\n",
       "      <td>XPGPMOHIDRMGE</td>\n",
       "      <td>SEO</td>\n",
       "      <td>Chrome</td>\n",
       "      <td>F</td>\n",
       "      <td>37</td>\n",
       "      <td>1.697198e+07</td>\n",
       "      <td>0</td>\n",
       "      <td>Thailand</td>\n",
       "    </tr>\n",
       "  </tbody>\n",
       "</table>\n",
       "</div>"
      ],
      "text/plain": [
       "     user_id          signup_time        purchase_time  purchase_value  \\\n",
       "634   247547  2015-06-28 03:00:34  2015-08-09 03:57:29              47   \n",
       "635   220737  2015-01-28 14:21:11  2015-02-11 20:28:28              15   \n",
       "636   390400  2015-03-19 20:49:09  2015-04-11 23:41:23              44   \n",
       "637    69592  2015-02-24 06:11:57  2015-05-23 16:40:14              55   \n",
       "638   174987  2015-07-07 12:58:11  2015-11-03 04:04:30              51   \n",
       "\n",
       "         device_id  source browser sex  age        ip_int  class    country  \n",
       "634  KIXYSVCHIPQBR     SEO  Safari   F   30  1.677886e+07      0  Australia  \n",
       "635  PKYOWQKWGJNJI     SEO  Chrome   F   34  1.684205e+07      0   Thailand  \n",
       "636  LVCSXLISZHVUO     Ads      IE   M   29  1.684366e+07      0      China  \n",
       "637  UHAUHNXXUADJE  Direct  Chrome   F   30  1.693873e+07      0      China  \n",
       "638  XPGPMOHIDRMGE     SEO  Chrome   F   37  1.697198e+07      0   Thailand  "
      ]
     },
     "execution_count": 23,
     "metadata": {},
     "output_type": "execute_result"
    }
   ],
   "source": [
    "import pandas as pd\n",
    "\n",
    "# Load your datasets\n",
    "fraud_df = pd.read_csv(\"../Data/raw/Fraud_Data.csv\")\n",
    "ip_df = pd.read_csv(\"../Data/raw/IpAddress_to_Country.csv\")\n",
    "\n",
    "# Rename column for clarity\n",
    "fraud_df = fraud_df.rename(columns={\"ip_address\": \"ip_int\"})\n",
    "\n",
    "# Sort both DataFrames for merge_asof\n",
    "fraud_df = fraud_df.sort_values(\"ip_int\")\n",
    "ip_df = ip_df.sort_values(\"lower_bound_ip_address\")\n",
    "\n",
    "# merge_asof finds the nearest lower_bound for each ip\n",
    "merged_df = pd.merge_asof(\n",
    "    fraud_df,\n",
    "    ip_df,\n",
    "    left_on=\"ip_int\",\n",
    "    right_on=\"lower_bound_ip_address\",\n",
    "    direction=\"backward\"\n",
    ")\n",
    "\n",
    "# Keep only rows where ip_int is within the IP range\n",
    "merged_df = merged_df[merged_df[\"ip_int\"] <= merged_df[\"upper_bound_ip_address\"]]\n",
    "\n",
    "# Drop the IP range columns if you no longer need them\n",
    "merged_df = merged_df.drop(columns=[\"lower_bound_ip_address\", \"upper_bound_ip_address\"])\n",
    "\n",
    "# Now you have fraud_df with a 'country' column\n",
    "print(merged_df[['user_id', 'ip_int', 'country']].head())\n",
    "merged_df.head()\n"
   ]
  },
  {
   "cell_type": "markdown",
   "id": "0262d3f8",
   "metadata": {},
   "source": [
    "###  Feature Engineering"
   ]
  },
  {
   "cell_type": "code",
   "execution_count": 27,
   "id": "072db181",
   "metadata": {},
   "outputs": [
    {
     "name": "stdout",
     "output_type": "stream",
     "text": [
      "     user_id  hour_of_day  day_of_week  time_since_signup  transaction_count  \\\n",
      "634   247547            3            6        1008.948611                  1   \n",
      "635   220737           20            2         342.121389                  1   \n",
      "636   390400           23            5         554.870556                  1   \n",
      "637    69592           16            5        2122.471389                  1   \n",
      "638   174987            4            1        2847.105278                  1   \n",
      "639    23204            4            6        1134.798611                  1   \n",
      "640   155230           13            3        1613.465000                  1   \n",
      "641   199369           18            6        1371.587778                  1   \n",
      "642   236894            1            5         933.447778                  1   \n",
      "643   379446           22            4        2001.228611                  1   \n",
      "\n",
      "     transaction_velocity  \n",
      "634                   1.0  \n",
      "635                   1.0  \n",
      "636                   1.0  \n",
      "637                   1.0  \n",
      "638                   1.0  \n",
      "639                   1.0  \n",
      "640                   1.0  \n",
      "641                   1.0  \n",
      "642                   1.0  \n",
      "643                   1.0  \n"
     ]
    }
   ],
   "source": [
    "import pandas as pd\n",
    "\n",
    "# Ensure datetime columns are in datetime format\n",
    "merged_df['signup_time'] = pd.to_datetime(merged_df['signup_time'])\n",
    "merged_df['purchase_time'] = pd.to_datetime(merged_df['purchase_time'])\n",
    "\n",
    "# Hour of day for purchase\n",
    "merged_df['hour_of_day'] = merged_df['purchase_time'].dt.hour\n",
    "\n",
    "# Day of week for purchase (Monday=0, Sunday=6)\n",
    "merged_df['day_of_week'] = merged_df['purchase_time'].dt.dayofweek\n",
    "\n",
    "# Time since signup (in hours)\n",
    "merged_df['time_since_signup'] = (merged_df['purchase_time'] - merged_df['signup_time']).dt.total_seconds() / 3600\n",
    "\n",
    "# Transaction frequency: count of transactions per user\n",
    "merged_df['transaction_count'] = merged_df.groupby('user_id')['user_id'].transform('count')\n",
    "\n",
    "# Transaction velocity: transactions per day per user\n",
    "merged_df['days_active'] = (merged_df.groupby('user_id')['purchase_time'].transform('max') - \n",
    "                            merged_df.groupby('user_id')['purchase_time'].transform('min')).dt.days + 1\n",
    "merged_df['transaction_velocity'] = merged_df['transaction_count'] / merged_df['days_active']\n",
    "\n",
    "# Preview new features\n",
    "print(merged_df[['user_id', 'hour_of_day', 'day_of_week', 'time_since_signup', 'transaction_count', 'transaction_velocity']].head(10))"
   ]
  },
  {
   "cell_type": "code",
   "execution_count": 28,
   "id": "88ea5d7c",
   "metadata": {},
   "outputs": [
    {
     "name": "stdout",
     "output_type": "stream",
     "text": [
      "[1.]\n",
      "Total unique values: 1\n"
     ]
    }
   ],
   "source": [
    "unique_velocities = merged_df['transaction_velocity'].unique()\n",
    "print(unique_velocities)\n",
    "print(f\"Total unique values: {len(unique_velocities)}\")"
   ]
  },
  {
   "cell_type": "code",
   "execution_count": 29,
   "id": "c0eac6e6",
   "metadata": {},
   "outputs": [
    {
     "name": "stdout",
     "output_type": "stream",
     "text": [
      "transaction_count\n",
      "1    129146\n",
      "Name: count, dtype: int64\n",
      "days_active\n",
      "1    129146\n",
      "Name: count, dtype: int64\n"
     ]
    }
   ],
   "source": [
    "print(merged_df['transaction_count'].value_counts())\n",
    "print(merged_df['days_active'].value_counts())"
   ]
  },
  {
   "cell_type": "markdown",
   "id": "0eb0fba1",
   "metadata": {},
   "source": [
    "### Data Transformation"
   ]
  },
  {
   "cell_type": "code",
   "execution_count": 34,
   "id": "f501c958",
   "metadata": {},
   "outputs": [
    {
     "name": "stdout",
     "output_type": "stream",
     "text": [
      "class\n",
      "0    116878\n",
      "1     12268\n",
      "Name: count, dtype: int64\n"
     ]
    },
    {
     "name": "stderr",
     "output_type": "stream",
     "text": [
      "/home/feven-alemayehu/Documents/KAIM/week8and9/.venv/lib/python3.12/site-packages/sklearn/utils/validation.py:2732: UserWarning: X has feature names, but OneHotEncoder was fitted without feature names\n",
      "  warnings.warn(\n"
     ]
    }
   ],
   "source": [
    "from sklearn.model_selection import train_test_split\n",
    "from sklearn.preprocessing import StandardScaler, OneHotEncoder\n",
    "from imblearn.over_sampling import SMOTE\n",
    "import pandas as pd\n",
    "import numpy as np\n",
    "\n",
    "# 1. Handle Class Imbalance\n",
    "print(merged_df['class'].value_counts())  # Analyze class distribution\n",
    "\n",
    "# Split features and target\n",
    "X = merged_df.drop('class', axis=1)\n",
    "y = merged_df['class']\n",
    "\n",
    "# Split into train/test\n",
    "X_train, X_test, y_train, y_test = train_test_split(X, y, stratify=y, test_size=0.2, random_state=42)\n",
    "\n",
    "# Separate numerical and categorical columns\n",
    "num_cols = X_train.select_dtypes(include=[float, int]).columns\n",
    "cat_cols = ['browser', 'source', 'sex', 'country']\n",
    "\n",
    "# Apply SMOTE to numerical features only\n",
    "smote = SMOTE(random_state=42)\n",
    "X_train_num_res, y_train_res = smote.fit_resample(X_train[num_cols], y_train)\n",
    "\n",
    "# Find how many times each original row was used in the resampled set\n",
    "from collections import Counter\n",
    "\n",
    "# Get the counts of each original sample in the resampled set\n",
    "sample_counts = Counter(smote._sampling_strategy[y_train.values.argmax()]) if hasattr(smote, '_sampling_strategy') else Counter()\n",
    "if hasattr(X_train, 'index'):\n",
    "    # If index is available, use it\n",
    "    orig_indices = X_train.index\n",
    "else:\n",
    "    orig_indices = np.arange(len(X_train))\n",
    "\n",
    "# Build categorical features for resampled set\n",
    "cat_rows = []\n",
    "for idx in smote.fit_resample(np.arange(len(X_train[num_cols])).reshape(-1, 1), y_train)[0].flatten():\n",
    "    cat_rows.append(X_train.iloc[idx][cat_cols].values)\n",
    "X_train_cat_res = np.array(cat_rows)\n",
    "\n",
    "# Scale numerical features\n",
    "scaler = StandardScaler()\n",
    "X_train_scaled = scaler.fit_transform(X_train_num_res)\n",
    "X_test_scaled = scaler.transform(X_test[num_cols])\n",
    "\n",
    "# Encode categorical features\n",
    "encoder = OneHotEncoder(sparse_output=False, handle_unknown='ignore')\n",
    "X_train_cat_encoded = encoder.fit_transform(X_train_cat_res)\n",
    "X_test_cat_encoded = encoder.transform(X_test[cat_cols])\n",
    "\n",
    "# Stack numerical and categorical features\n",
    "X_train_final = np.hstack([X_train_scaled, X_train_cat_encoded])\n",
    "X_test_final = np.hstack([X_test_scaled, X_test_cat_encoded])"
   ]
  }
 ],
 "metadata": {
  "kernelspec": {
   "display_name": ".venv",
   "language": "python",
   "name": "python3"
  },
  "language_info": {
   "codemirror_mode": {
    "name": "ipython",
    "version": 3
   },
   "file_extension": ".py",
   "mimetype": "text/x-python",
   "name": "python",
   "nbconvert_exporter": "python",
   "pygments_lexer": "ipython3",
   "version": "3.12.3"
  }
 },
 "nbformat": 4,
 "nbformat_minor": 5
}
